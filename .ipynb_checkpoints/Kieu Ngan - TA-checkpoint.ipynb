{
 "cells": [
  {
   "cell_type": "code",
   "execution_count": 72,
   "id": "1e71b1e0-c004-46f5-a636-3bad03e770d6",
   "metadata": {},
   "outputs": [],
   "source": [
    "import numpy as np\n",
    "import pandas as pd\n",
    "import matplotlib.pyplot as plt\n",
    "import seaborn as sns"
   ]
  },
  {
   "cell_type": "code",
   "execution_count": 73,
   "id": "18cb23e2-ece5-4597-bae2-eae3c5e9fbd1",
   "metadata": {},
   "outputs": [],
   "source": [
    "task_2a = pd.read_csv('task2a.csv')\n",
    "task_2b = pd.read_csv('task2b.csv')"
   ]
  },
  {
   "cell_type": "code",
   "execution_count": 74,
   "id": "d0574fdb-45cd-4052-8922-06d9bd54d0f4",
   "metadata": {},
   "outputs": [
    {
     "data": {
      "text/plain": [
       "17414"
      ]
     },
     "execution_count": 74,
     "metadata": {},
     "output_type": "execute_result"
    }
   ],
   "source": [
    "joined_bike = pd.merge(task_2a, task_2b, on='timestamp', how='left')\n",
    "joined_bike['timestamp'] = pd.to_datetime(joined_bike['timestamp'],errors = 'coerce')\n",
    "df = joined_bike.drop(columns=['feels_like_temp'])\n",
    "len(df)"
   ]
  },
  {
   "cell_type": "code",
   "execution_count": 75,
   "id": "cfa66ad2-ac63-4158-9c1a-f951ffdf63fe",
   "metadata": {},
   "outputs": [
    {
     "data": {
      "text/plain": [
       "timestamp          10568\n",
       "new_bike_shares        0\n",
       "temperature            0\n",
       "humidity               0\n",
       "wind_speed             0\n",
       "is_weekend             0\n",
       "season_code            0\n",
       "dtype: int64"
      ]
     },
     "execution_count": 75,
     "metadata": {},
     "output_type": "execute_result"
    }
   ],
   "source": [
    "df.isna().sum()"
   ]
  },
  {
   "cell_type": "code",
   "execution_count": 76,
   "id": "509c3b03-6c34-454a-8e01-b2b7fb59923e",
   "metadata": {},
   "outputs": [
    {
     "data": {
      "text/html": [
       "<div>\n",
       "<style scoped>\n",
       "    .dataframe tbody tr th:only-of-type {\n",
       "        vertical-align: middle;\n",
       "    }\n",
       "\n",
       "    .dataframe tbody tr th {\n",
       "        vertical-align: top;\n",
       "    }\n",
       "\n",
       "    .dataframe thead th {\n",
       "        text-align: right;\n",
       "    }\n",
       "</style>\n",
       "<table border=\"1\" class=\"dataframe\">\n",
       "  <thead>\n",
       "    <tr style=\"text-align: right;\">\n",
       "      <th></th>\n",
       "      <th>timestamp</th>\n",
       "      <th>new_bike_shares</th>\n",
       "      <th>temperature</th>\n",
       "      <th>humidity</th>\n",
       "      <th>wind_speed</th>\n",
       "      <th>is_weekend</th>\n",
       "      <th>season_code</th>\n",
       "    </tr>\n",
       "  </thead>\n",
       "  <tbody>\n",
       "    <tr>\n",
       "      <th>3445</th>\n",
       "      <td>NaT</td>\n",
       "      <td>990</td>\n",
       "      <td>15.5</td>\n",
       "      <td>61.0</td>\n",
       "      <td>19.5</td>\n",
       "      <td>0</td>\n",
       "      <td>0</td>\n",
       "    </tr>\n",
       "    <tr>\n",
       "      <th>11287</th>\n",
       "      <td>NaT</td>\n",
       "      <td>47</td>\n",
       "      <td>6.0</td>\n",
       "      <td>93.0</td>\n",
       "      <td>7.0</td>\n",
       "      <td>0</td>\n",
       "      <td>0</td>\n",
       "    </tr>\n",
       "    <tr>\n",
       "      <th>14144</th>\n",
       "      <td>NaT</td>\n",
       "      <td>74</td>\n",
       "      <td>17.0</td>\n",
       "      <td>88.0</td>\n",
       "      <td>8.0</td>\n",
       "      <td>0</td>\n",
       "      <td>1</td>\n",
       "    </tr>\n",
       "    <tr>\n",
       "      <th>14411</th>\n",
       "      <td>NaT</td>\n",
       "      <td>725</td>\n",
       "      <td>15.5</td>\n",
       "      <td>74.5</td>\n",
       "      <td>9.0</td>\n",
       "      <td>0</td>\n",
       "      <td>1</td>\n",
       "    </tr>\n",
       "  </tbody>\n",
       "</table>\n",
       "</div>"
      ],
      "text/plain": [
       "      timestamp  new_bike_shares  temperature  humidity  wind_speed  \\\n",
       "3445        NaT              990         15.5      61.0        19.5   \n",
       "11287       NaT               47          6.0      93.0         7.0   \n",
       "14144       NaT               74         17.0      88.0         8.0   \n",
       "14411       NaT              725         15.5      74.5         9.0   \n",
       "\n",
       "       is_weekend  season_code  \n",
       "3445            0            0  \n",
       "11287           0            0  \n",
       "14144           0            1  \n",
       "14411           0            1  "
      ]
     },
     "execution_count": 76,
     "metadata": {},
     "output_type": "execute_result"
    }
   ],
   "source": [
    "df[df.duplicated()]"
   ]
  },
  {
   "cell_type": "markdown",
   "id": "9f2138f4-5830-4cf0-b018-08e984a26194",
   "metadata": {},
   "source": [
    "## Remove outliers\n",
    "\n",
    "### Method 1: using z-score"
   ]
  },
  {
   "cell_type": "code",
   "execution_count": 77,
   "id": "6fa901f9-35a1-47b6-b4b8-e881857bbb1e",
   "metadata": {},
   "outputs": [
    {
     "data": {
      "text/plain": [
       "count    17414.000000\n",
       "mean        12.468091\n",
       "std          5.571818\n",
       "min         -1.500000\n",
       "25%          8.000000\n",
       "50%         12.500000\n",
       "75%         16.000000\n",
       "max         34.000000\n",
       "Name: temperature, dtype: float64"
      ]
     },
     "execution_count": 77,
     "metadata": {},
     "output_type": "execute_result"
    }
   ],
   "source": [
    "df['temperature'].describe()"
   ]
  },
  {
   "cell_type": "code",
   "execution_count": 78,
   "id": "64863898-59f4-4b55-a4ae-a7c701bcebee",
   "metadata": {},
   "outputs": [
    {
     "data": {
      "text/plain": [
       "17369"
      ]
     },
     "execution_count": 78,
     "metadata": {},
     "output_type": "execute_result"
    }
   ],
   "source": [
    "from scipy.stats import zscore\n",
    "\n",
    "df['z_score'] = zscore(df['temperature'])\n",
    "\n",
    "# Define threshold for outliers (e.g., z_score > 3 or z_score < -3)\n",
    "threshold = 3 \n",
    "\n",
    "# Filter rows where absolute z-score exceeds the threshold\n",
    "df_filtered = df[abs(df['z_score']) <= threshold].copy()\n",
    "df_filtered.drop(columns=['z_score'], inplace=True)\n",
    "len(df_filtered)"
   ]
  },
  {
   "cell_type": "markdown",
   "id": "5e596183-da64-4056-8d90-72721e5d2e50",
   "metadata": {},
   "source": [
    "### Method 2: using inter-quartile range (IQR)"
   ]
  },
  {
   "cell_type": "code",
   "execution_count": 79,
   "id": "98d221ea-2968-4d0a-a4a4-cff5782f0ab2",
   "metadata": {},
   "outputs": [
    {
     "data": {
      "text/plain": [
       "16408"
      ]
     },
     "execution_count": 79,
     "metadata": {},
     "output_type": "execute_result"
    }
   ],
   "source": [
    "Q1 = df.quantile(0.25)\n",
    "Q3 = df.quantile(0.75)\n",
    "IQR = Q3 - Q1\n",
    "\n",
    "# Define the lower and upper bounds for outliers\n",
    "lower_bound = Q1 - 1.5 * IQR\n",
    "upper_bound = Q3 + 1.5 * IQR\n",
    "\n",
    "# Filter out rows with outlier values in any column\n",
    "outliers_iqr = ((df < lower_bound) | (df > upper_bound)).any(axis=1)\n",
    "df_filtered_iqr = df[~outliers_iqr]\n",
    "\n",
    "len(df_filtered_iqr)"
   ]
  },
  {
   "cell_type": "code",
   "execution_count": null,
   "id": "a36e897f-e923-498a-ad4e-564ecd503c82",
   "metadata": {},
   "outputs": [],
   "source": []
  }
 ],
 "metadata": {
  "kernelspec": {
   "display_name": "Python 3 (ipykernel)",
   "language": "python",
   "name": "python3"
  },
  "language_info": {
   "codemirror_mode": {
    "name": "ipython",
    "version": 3
   },
   "file_extension": ".py",
   "mimetype": "text/x-python",
   "name": "python",
   "nbconvert_exporter": "python",
   "pygments_lexer": "ipython3",
   "version": "3.11.4"
  }
 },
 "nbformat": 4,
 "nbformat_minor": 5
}
